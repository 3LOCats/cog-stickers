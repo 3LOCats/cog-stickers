{
  "cells": [
    {
      "cell_type": "code",
      "execution_count": null,
      "metadata": {
        "collapsed": true,
        "id": "1M1zd6gmd2zH"
      },
      "outputs": [],
      "source": [
        "# @title 环境\n",
        "import os\n",
        "\n",
        "!apt -y update -qq\n",
        "#!sudo apt install -qq -y git-all\n",
        "\n",
        "# !pip install -q torch==2.2.2+cu121 torchvision==0.17.2+cu121 torchaudio==2.2.2+cu121 torchsde --extra-index-url https://download.pytorch.org/whl/cu121 -U\n",
        "# !pip install -q einops transformers>=4.25.1 safetensors>=0.3.0\n",
        "# !pip install -q aiohttp accelerate pyyaml Pillow scipy tqdm psutil kornia>=0.7.1 websocket-client==1.6.3 diffusers>=0.25.0 albumentations==1.4.3\n",
        "# !pip install -q cog\n",
        "\n",
        "# !curl -o /usr/local/bin/pget -L \"https://github.com/replicate/pget/releases/download/v0.6.0/pget_linux_x86_64\" && chmod +x /usr/local/bin/pget"
      ]
    },
    {
      "cell_type": "code",
      "execution_count": null,
      "metadata": {
        "id": "wbEEhtp6h-dr"
      },
      "outputs": [],
      "source": [
        "import yaml\n",
        "\n",
        "torch_versions = {\n",
        "    \"torch\": \"2.2.2\",\n",
        "    \"torchvision\": \"0.17.2\",\n",
        "    \"torchaudio\":\"2.2.2\",\n",
        "}\n",
        "\n",
        "with open('cog.yaml', 'r') as file:\n",
        "    config = yaml.safe_load(file).get('build')\n",
        "\n",
        "cuda_version=config['cuda'].replace('.', '')\n",
        "\n",
        "cuda_pkgs = []\n",
        "pkgs=[]\n",
        "for pkg in config['python_packages']:\n",
        "  if pkg.startswith('torch'):\n",
        "    if pkg in torch_versions:\n",
        "      cuda_pkgs.append(f\"{pkg}=={torch_versions[pkg]}+cu{cuda_version}\")\n",
        "    else:\n",
        "      cuda_pkgs.append(pkg)\n",
        "  else:\n",
        "    pkgs.append(pkg)\n",
        "cuda_pkgs.append(f'--extra-index-url https://download.pytorch.org/whl/cu{cuda_version} -U')\n",
        "pkgs.append('cog')\n",
        "\n",
        "print(f\"pip install -q {' '.join(cuda_pkgs)}\")\n",
        "!pip install -q {' '.join(cuda_pkgs)}\n",
        "\n",
        "print(f\"pip install -q {' '.join(pkgs)}\")\n",
        "!pip install -q {' '.join(pkgs)}\n",
        "\n",
        "for r in config['run']:\n",
        "  print(r)\n",
        "  !{r}"
      ]
    },
    {
      "cell_type": "code",
      "execution_count": null,
      "metadata": {
        "collapsed": true,
        "id": "v4g4lsjWgLhc"
      },
      "outputs": [],
      "source": [
        "# @title 本体\n",
        "!git clone https://github.com/3LOCats/cog-stickers.git /content/cog-stickers\n",
        "%cd /content/cog-stickers\n",
        "!./scripts/reset.sh"
      ]
    },
    {
      "cell_type": "markdown",
      "metadata": {
        "id": "-NWtPBlVltjl"
      },
      "source": [
        "### 下载模型"
      ]
    },
    {
      "cell_type": "code",
      "execution_count": null,
      "metadata": {
        "collapsed": true,
        "id": "N_lhTpz7lveb"
      },
      "outputs": [],
      "source": [
        "import json\n",
        "\n",
        "from scripts.weights_from_workflow import handle_weights\n",
        "with open('sticker_maker_api.json', 'r') as f:\n",
        "    workflow = json.load(f)\n",
        "    weights = handle_weights(workflow)\n",
        "\n",
        "print('Installing weights:')\n",
        "print('\\n'.join(weights))\n",
        "!python ./scripts/get_weights.py {' '.join(weights)}\n"
      ]
    },
    {
      "cell_type": "markdown",
      "metadata": {
        "id": "wH1_0R6K0gBH"
      },
      "source": [
        "### 异步启动cog.server.http服务"
      ]
    },
    {
      "cell_type": "code",
      "execution_count": null,
      "metadata": {
        "id": "numjh_9Z0jpG"
      },
      "outputs": [],
      "source": [
        "import asyncio\n",
        "import subprocess\n",
        "\n",
        "async def create_command(cmd: str):\n",
        "    proc = await asyncio.create_subprocess_shell(\n",
        "        cmd,\n",
        "        stdout=asyncio.subprocess.PIPE,\n",
        "        stderr=asyncio.subprocess.PIPE\n",
        "    )\n",
        "    return proc\n",
        "\n",
        "async def wait_command(proc):\n",
        "    stdout, stderr = await proc.communicate()\n",
        "    print(f\"stdout: {stdout.decode()}\")\n",
        "    print(f\"stderr: {stderr.decode()}\")\n",
        "\n",
        "    return_code = await proc.wait()\n",
        "    print(f\"Return code: {return_code}\")\n",
        "\n",
        "http_server = await create_command(\"python -m cog.server.http\")\n",
        "print(f'http server pid: {http_server.pid}')\n",
        "wait_command(http_server)"
      ]
    },
    {
      "cell_type": "markdown",
      "metadata": {
        "id": "LX4mjAjC82tn"
      },
      "source": [
        "### 生成图片"
      ]
    },
    {
      "cell_type": "code",
      "execution_count": null,
      "metadata": {
        "collapsed": true,
        "id": "Jc6cHRT2sDfJ"
      },
      "outputs": [],
      "source": [
        "from predict import Predictor\n",
        "\n",
        "p = Predictor()\n",
        "p.setup()\n",
        "\n",
        "files=p.predict(\n",
        "    prompt='rabbit',\n",
        "    negative_prompt='',\n",
        "    width=1024,\n",
        "    height=1024,\n",
        "    steps=20,\n",
        "    number_of_images=1,\n",
        "    output_format='png',\n",
        "    output_quality=100,\n",
        "    sticker_type='Stickersheet', # 'Sticker' or 'Stickersheet'\n",
        "    seed= None\n",
        "    )\n"
      ]
    },
    {
      "cell_type": "markdown",
      "metadata": {
        "id": "-cp1S9LB1sLX"
      },
      "source": [
        "### 显示图片"
      ]
    },
    {
      "cell_type": "code",
      "execution_count": null,
      "metadata": {
        "id": "zlIa5_Ei1vWq"
      },
      "outputs": [],
      "source": [
        "from IPython.display import Image\n",
        "file=files[0]\n",
        "if file.suffix == '.webp':\n",
        "  file = file.with_suffix('.png')\n",
        "Image(data=file)"
      ]
    },
    {
      "cell_type": "markdown",
      "metadata": {
        "id": "Htz8H7kpl9Fb"
      },
      "source": [
        "### 停止HTTP服务"
      ]
    },
    {
      "cell_type": "code",
      "execution_count": null,
      "metadata": {
        "id": "K-46kvzlmPza"
      },
      "outputs": [],
      "source": [
        "!ss -antp | grep LISTEN | grep python"
      ]
    },
    {
      "cell_type": "code",
      "execution_count": null,
      "metadata": {
        "id": "omd0fZJJl_pR"
      },
      "outputs": [],
      "source": [
        "print(f'killing {http_server.pid}')\n",
        "!kill {http_server.pid}"
      ]
    }
  ],
  "metadata": {
    "accelerator": "GPU",
    "colab": {
      "gpuType": "T4",
      "provenance": []
    },
    "kernelspec": {
      "display_name": "Python 3",
      "name": "python3"
    },
    "language_info": {
      "name": "python"
    }
  },
  "nbformat": 4,
  "nbformat_minor": 0
}
